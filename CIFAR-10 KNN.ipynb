{
 "cells": [
  {
   "cell_type": "code",
   "execution_count": 1,
   "metadata": {},
   "outputs": [],
   "source": [
    "import numpy as np\n",
    "import os\n",
    "import pickle\n",
    "import matplotlib.pyplot as plt"
   ]
  },
  {
   "cell_type": "code",
   "execution_count": 2,
   "metadata": {},
   "outputs": [],
   "source": [
    "def loadData(path):\n",
    "    listOfFiles = os.listdir(path='cifar-10-batches-py/')\n",
    "    train = []\n",
    "    train_labels = []\n",
    "        \n",
    "        \n",
    "    print(\"Training files = \",listOfFiles[1:6])\n",
    "    # collecting Training data from cifar10:\n",
    "    for file in listOfFiles[1:6]:\n",
    "        with open(path+file,'rb') as fo:\n",
    "            dict = pickle.load(fo,encoding='bytes')\n",
    "            train.append(dict[b'data'])\n",
    "            train_labels.append(dict[b'labels'])\n",
    "\n",
    "    dictData = {}\n",
    "    dictData['train_data'] = np.reshape(np.array(train),newshape=(np.array(train).shape[0]*np.array(train).shape[1],np.array(train).shape[2]))\n",
    "    dictData['train_labels'] = np.reshape(np.array(train_labels),newshape=(np.array(train_labels).shape[0]*np.array(train_labels).shape[1]))\n",
    "    return dictData"
   ]
  },
  {
   "cell_type": "code",
   "execution_count": 3,
   "metadata": {
    "scrolled": false
   },
   "outputs": [
    {
     "name": "stdout",
     "output_type": "stream",
     "text": [
      "Training files =  ['data_batch_1', 'data_batch_2', 'data_batch_3', 'data_batch_4', 'data_batch_5']\n"
     ]
    }
   ],
   "source": [
    "#load the dataset\n",
    "#Show training files\n",
    "dataset = loadData(path='cifar-10-batches-py/')"
   ]
  },
  {
   "cell_type": "code",
   "execution_count": 4,
   "metadata": {},
   "outputs": [
    {
     "data": {
      "text/plain": [
       "50000"
      ]
     },
     "execution_count": 4,
     "metadata": {},
     "output_type": "execute_result"
    }
   ],
   "source": [
    "#collect 50000 data\n",
    "dataset['train_data'].shape[0]"
   ]
  },
  {
   "cell_type": "code",
   "execution_count": 5,
   "metadata": {},
   "outputs": [
    {
     "data": {
      "image/png": "[encoded data removed]",
      "text/plain": [
       "<Figure size 432x288 with 1 Axes>"
      ]
     },
     "metadata": {},
     "output_type": "display_data"
    }
   ],
   "source": [
    "#show random train sample\n",
    "temp = dataset['train_data'][20000]\n",
    "label = dataset['train_labels'][20000]\n",
    "# Since every row represents one example to re-map it to image we have to form three 32,32 matrix,\n",
    "#representing with RGB values\n",
    "\n",
    "R = temp[0:1024].reshape(32,32)\n",
    "G = np.reshape(temp[1024:2048],newshape=(32,32))\n",
    "B = np.reshape(temp[2048:],newshape=(32,32))\n",
    "temp = np.dstack((R,G,B))   #for stacking all these 32,32 matrices.\n",
    "plt.imshow(temp)\n",
    "plt.xticks([])\n",
    "plt.yticks([])\n",
    "plt.xlabel(label)\n",
    "plt.show()"
   ]
  },
  {
   "cell_type": "code",
   "execution_count": 6,
   "metadata": {},
   "outputs": [],
   "source": [
    "X_train, y_train= dataset['train_data'],dataset['train_labels']"
   ]
  },
  {
   "cell_type": "code",
   "execution_count": 7,
   "metadata": {},
   "outputs": [],
   "source": [
    "#Building the actual classifier:\n",
    "#inputs will be of shape N X F where N = number of examples and F = number of features for each image.\n",
    "#labels will be of size N,1. This consists of labels for all N labels from 10 classes\n",
    "\n",
    "class kNearestNeighbour(object):\n",
    "    def __init__(self):\n",
    "        pass\n",
    "    \n",
    "    def train(self,X,Y):\n",
    "        #Knn will remember all of its training data\n",
    "        self.Xtr = X\n",
    "        self.Ytr = Y\n",
    "        \n",
    "    def predict(self,X,k):\n",
    "        #to get no. of samples in train set \n",
    "        test_samples = X.shape[0]\n",
    "        Ypred = np.zeros(test_samples,dtype=self.Ytr.dtype)\n",
    "        \n",
    "        #Calculating the l1 distance between current samples of test and train set\n",
    "        for i in range(test_samples):\n",
    "            \n",
    "            print(\"Test sample = \",i,end=\"\\r\")\n",
    "            #label_count is array of zeros used to store the count for each class while comparing neighbours\n",
    "            label_count = np.zeros(10,dtype=self.Ytr.dtype)    \n",
    "            dist = np.sum(np.abs(X[i,:] - self.Xtr),axis=1)   #take the absolute sum horizontally across columns\n",
    "            \n",
    "            \n",
    "            #idx will contain k smallest indices at the start of the list\n",
    "            #this is called partial sorting for more information look: https://docs.scipy.org/doc/numpy/reference/generated/numpy.argpartition.html\n",
    "            #min_ind will help us to slice through k indices which have minimum distance\n",
    "            idx = np.argpartition(dist,k)\n",
    "            min_ind = idx[:k]\n",
    "            \n",
    "            #This for loop iterates over min_ind and find the label present in train-set_Y for x\n",
    "            #and increase the count at that particular index whenever any label is repeated.\n",
    "            #Max value at any index is returned using np.argmax() and stored at ith index of Ypred i.e. predicted values\n",
    "            for x in min_ind:\n",
    "                label_count[int(self.Ytr[x])] +=1\n",
    "            Ypred[i] = np.argmax(label_count)\n",
    "    \n",
    "    \n",
    "        return Ypred\n",
    "\n"
   ]
  },
  {
   "cell_type": "code",
   "execution_count": null,
   "metadata": {},
   "outputs": [
    {
     "name": "stdout",
     "output_type": "stream",
     "text": [
      "Fold : 0\n",
      "k =  1\n",
      "Test sample =  9999\n",
      "\n",
      "k =  2\n",
      "Test sample =  9999\n",
      "\n",
      "k =  3\n",
      "Test sample =  9999\n",
      "\n",
      "k =  4\n",
      "Test sample =  9999\n",
      "\n",
      "k =  5\n",
      "Test sample =  9999\n",
      "\n",
      "k =  6\n",
      "Test sample =  24\r"
     ]
    }
   ],
   "source": [
    "#Splitting the data into 5 equal folds\n",
    "num_folds = 5\n",
    "num_training = 50000\n",
    "#k cjoice 1 to 20 its take long time for run\n",
    "k_choices = [1,2,3,4,5,6,7,8,9,10,11,12,13,14,15,16,17,18,19,20]\n",
    "\n",
    "# Check that training set can be equally divided into num_folds portions\n",
    "if num_training/num_folds % num_folds != 0.0:\n",
    "    raise ValueError('training samples cant evenly divisible by folds.')\n",
    "\n",
    "# Split training set into num_folds lists\n",
    "X_train_folds = np.split(X_train, num_folds)\n",
    "y_train_folds = np.split(y_train, num_folds)\n",
    "\n",
    "# A dictionary holding the accuracies for different values of k that we find\n",
    "# when running cross-validation. After running cross-validation,\n",
    "# k_to_accuracies[k] should be a list of length num_folds giving the different\n",
    "# accuracy values that we found when using that value of k.\n",
    "k_to_accuracies = {}\n",
    "\n",
    "# Perform k-fold cross validation to find the best value of k\n",
    "# Loop over num_folds in outer loop to reuse computed distances for all values of k\n",
    "for k in k_choices:\n",
    "    k_to_accuracies[k] = []\n",
    "    \n",
    "for idx in range(num_folds):\n",
    "    print(\"Fold :\", idx)\n",
    "    # Use bin with index idx as validation set, rest as training set \n",
    "    X_train_set = np.concatenate((*X_train_folds[:idx], *X_train_folds[idx+1:]), axis=0)\n",
    "    y_train_set = np.concatenate((*y_train_folds[:idx], *y_train_folds[idx+1:]), axis=0)\n",
    "    X_validation_set = X_train_folds[idx]\n",
    "    y_validation_set = y_train_folds[idx]   \n",
    "    num_validation_set = X_validation_set.shape[0]\n",
    "    # Train kNN classifier\n",
    "    knn = kNearestNeighbour()\n",
    "    knn.train(X_train_set, y_train_set)\n",
    "\n",
    "    \n",
    "    for k in k_choices:\n",
    "        print(\"k = \",k,end=\"\\n\")\n",
    "        # Predict labels for validation set\n",
    "        y_validation_pred = knn.predict(X_validation_set,k)\n",
    "        # Check accuracy for validation set\n",
    "        accuracy = np.mean(y_validation_pred==y_validation_set)\n",
    "        k_to_accuracies[k].append(accuracy)\n",
    "        print(\"\\n\")\n",
    "\n",
    "# Print out the computed accuracies\n",
    "for k in sorted(k_to_accuracies):\n",
    "    for accuracy in k_to_accuracies[k]:\n",
    "        print('k = %d, accuracy = %f' % (k, accuracy))\n"
   ]
  },
  {
   "cell_type": "code",
   "execution_count": null,
   "metadata": {},
   "outputs": [],
   "source": [
    "# plot the raw observations\n",
    "for k in k_choices:\n",
    "    accuracies = k_to_accuracies[k]\n",
    "    print('k = %d, average accuracy = %f' % (k, np.average(accuracies)))\n",
    "    plt.scatter([k] * len(accuracies), accuracies)\n",
    "\n",
    "# plot the trend line with error bars that correspond to standard deviation\n",
    "accuracies_mean = np.array([np.mean(v) for k,v in sorted(k_to_accuracies.items())])\n",
    "accuracies_std = np.array([np.std(v) for k,v in sorted(k_to_accuracies.items())])\n",
    "plt.errorbar(k_choices, accuracies_mean, yerr=accuracies_std)\n",
    "plt.title('Cross-validation on k')\n",
    "plt.xlabel('k')\n",
    "plt.ylabel('Cross-validation accuracy')\n",
    "plt.show()"
   ]
  },
  {
   "cell_type": "code",
   "execution_count": null,
   "metadata": {},
   "outputs": [],
   "source": []
  },
  {
   "cell_type": "code",
   "execution_count": null,
   "metadata": {},
   "outputs": [],
   "source": []
  },
  {
   "cell_type": "code",
   "execution_count": null,
   "metadata": {},
   "outputs": [],
   "source": []
  },
  {
   "cell_type": "code",
   "execution_count": null,
   "metadata": {},
   "outputs": [],
   "source": []
  }
 ],
 "metadata": {
  "kernelspec": {
   "display_name": "Python 3",
   "language": "python",
   "name": "python3"
  },
  "language_info": {
   "codemirror_mode": {
    "name": "ipython",
    "version": 3
   },
   "file_extension": ".py",
   "mimetype": "text/x-python",
   "name": "python",
   "nbconvert_exporter": "python",
   "pygments_lexer": "ipython3",
   "version": "3.8.5"
  }
 },
 "nbformat": 4,
 "nbformat_minor": 4
}
